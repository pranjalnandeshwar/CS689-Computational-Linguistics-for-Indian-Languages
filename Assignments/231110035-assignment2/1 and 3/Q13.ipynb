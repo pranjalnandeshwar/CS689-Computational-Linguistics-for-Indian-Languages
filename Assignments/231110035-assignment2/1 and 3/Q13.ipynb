{
  "nbformat": 4,
  "nbformat_minor": 0,
  "metadata": {
    "colab": {
      "provenance": []
    },
    "kernelspec": {
      "name": "python3",
      "display_name": "Python 3"
    },
    "language_info": {
      "name": "python"
    }
  },
  "cells": [
    {
      "cell_type": "markdown",
      "source": [
        "#Q1 and Q3 Combined: Manual NER Tagging & ChatGPT NER Tagging\n",
        "\n",
        "####Q1: Identify the named entities for a set of 25 sentences and mark them in BIO format. The classes are: PER (person), LOC (location), ORG (organisation), and MISC (miscellaneous) and O (for others, i.e., non NEs).\n",
        "\n",
        "####Q3: Use ChatGPT available at chat.openai.com. Pass the 25 sentences in Question 1 and query the NERs. Submit the output."
      ],
      "metadata": {
        "id": "AZl3UR17tRwY"
      }
    },
    {
      "cell_type": "markdown",
      "source": [
        "Note: In manual tagging, I have tagged the special characters like punctuation marks too."
      ],
      "metadata": {
        "id": "AI861ogLuOj-"
      }
    },
    {
      "cell_type": "markdown",
      "source": [
        "####1. कार्यकर्त्यांमधील वाद बघून संतापलेल्या सुप्रिया सुळे यांनी कार्यक्रमामध्येच राडेबाज कार्यकर्त्यांना दम दिला."
      ],
      "metadata": {
        "id": "t1XzpRIzu7BE"
      }
    },
    {
      "cell_type": "markdown",
      "source": [
        "Manual Tag: O O O O B-PER I-PER O O O O O O O\n",
        "\n",
        "ChatGPT Tag: [\n",
        "    {'word': 'कार्यकर्त्यांमधील', 'tag': 'O'},\n",
        "    {'word': 'वाद', 'tag': 'O'},\n",
        "    {'word': 'बघून', 'tag': 'O'},\n",
        "    {'word': 'संतापलेल्या', 'tag': 'O'},\n",
        "    {'word': 'सुप्रिया', 'tag': 'B-PER'},\n",
        "    {'word': 'सुळे', 'tag': 'I-PER'},\n",
        "    {'word': 'यांनी', 'tag': 'O'},\n",
        "    {'word': 'कार्यक्रमामध्येच', 'tag': 'O'},\n",
        "    {'word': 'राडेबाज', 'tag': 'B-ORG'},\n",
        "    {'word': 'कार्यकर्त्यांना', 'tag': 'O'},\n",
        "    {'word': 'दम', 'tag': 'O'},\n",
        "    {'word': 'दिला', 'tag': 'O'}\n",
        "]\n",
        "\n"
      ],
      "metadata": {
        "id": "f_6rqynSwyR1"
      }
    },
    {
      "cell_type": "markdown",
      "source": [
        "####2. अर्थात यात काही चांगल्या आणि व्हिडिओला पाठिंबा देणाऱ्या कमेंटही होत्या."
      ],
      "metadata": {
        "id": "PyE8iAyivFxa"
      }
    },
    {
      "cell_type": "markdown",
      "source": [
        "Manual Tag: O O O O O O O O O O O\n",
        "\n",
        "ChatGPT Tag: [\n",
        "    {'word': 'अर्थात', 'tag': 'O'},\n",
        "    {'word': 'यात', 'tag': 'O'},\n",
        "    {'word': 'काही', 'tag': 'O'},\n",
        "    {'word': 'चांगल्या', 'tag': 'O'},\n",
        "    {'word': 'आणि', 'tag': 'O'},\n",
        "    {'word': 'व्हिडिओला', 'tag': 'O'},\n",
        "    {'word': 'पाठिंबा', 'tag': 'O'},\n",
        "    {'word': 'देणाऱ्या', 'tag': 'O'},\n",
        "    {'word': 'कमेंटही', 'tag': 'O'},\n",
        "    {'word': 'होत्या', 'tag': 'O'}\n",
        "]\n"
      ],
      "metadata": {
        "id": "hIf13cBdxLyR"
      }
    },
    {
      "cell_type": "markdown",
      "source": [
        "####3. भारतीय वायुसेनेनं केलेल्या कारवाईचं संपुर्ण देशभरात कौतूक केलं जात आहे."
      ],
      "metadata": {
        "id": "aaz5tKWXvI1F"
      }
    },
    {
      "cell_type": "markdown",
      "source": [
        "Manual Tag: B-ORG I-ORG O O O O O O O O O\n",
        "\n",
        "ChatGPT Tag: [\n",
        "    {'word': 'भारतीय', 'tag': 'O'},\n",
        "    {'word': 'वायुसेनेनं', 'tag': 'B-ORG'},\n",
        "    {'word': 'केलेल्या', 'tag': 'I-ORG'},\n",
        "    {'word': 'कारवाईचं', 'tag': 'O'},\n",
        "    {'word': 'संपुर्ण', 'tag': 'O'},\n",
        "    {'word': 'देशभरात', 'tag': 'O'},\n",
        "    {'word': 'कौतूक', 'tag': 'O'},\n",
        "    {'word': 'केलं', 'tag': 'O'},\n",
        "    {'word': 'जात', 'tag': 'O'},\n",
        "    {'word': 'आहे', 'tag': 'O'}\n",
        "]\n"
      ],
      "metadata": {
        "id": "QEonQ_KoxYMt"
      }
    },
    {
      "cell_type": "markdown",
      "source": [
        "####4. 24) बैठक बोलावली असल्याची माहिती आमदार अनिल बाबर यांनी. . . ढवळीत पुरग्रस्तांच्या मदत वाटपाची चौकशी सुरु"
      ],
      "metadata": {
        "id": "YIDPtJQvvLPj"
      }
    },
    {
      "cell_type": "markdown",
      "source": [
        "Manual Tag: O O O O O B-MISC B-PER I-PER O O O O B-LOC O O O O O\n",
        "\n",
        "ChatGPT Tag: [\n",
        "    {'word': 'बैठक', 'tag': 'O'},\n",
        "    {'word': 'बोलावली', 'tag': 'O'},\n",
        "    {'word': 'असल्याची', 'tag': 'O'},\n",
        "    {'word': 'माहिती', 'tag': 'O'},\n",
        "    {'word': 'आमदार', 'tag': 'O'},\n",
        "    {'word': 'अनिल', 'tag': 'B-PER'},\n",
        "    {'word': 'बाबर', 'tag': 'I-PER'},\n",
        "    {'word': 'यांनी', 'tag': 'O'},\n",
        "    {'word': '.', 'tag': 'O'},\n",
        "    {'word': '.', 'tag': 'O'},\n",
        "    {'word': 'ढवळीत', 'tag': 'O'},\n",
        "    {'word': 'पुरग्रस्तांच्या', 'tag': 'O'},\n",
        "    {'word': 'मदत', 'tag': 'O'},\n",
        "    {'word': 'वाटपाची', 'tag': 'O'},\n",
        "    {'word': 'चौकशी', 'tag': 'O'},\n",
        "    {'word': 'सुरु', 'tag': 'O'}\n",
        "]\n"
      ],
      "metadata": {
        "id": "YUD7ScTYz0Kr"
      }
    },
    {
      "cell_type": "markdown",
      "source": [
        "####5. यावेळी सुरेश प्रभुनी सुधीर सावंत व मधु दंडवते या दोघांचाही पराभव केला. त्यावेळी निकालादिवशी सुरेश प्रभुंना विजयी घोषित केल्यानंतर त्यांनी लगेचच शेजारी उभे असलेल्या मधु दंडवतेंची भेट घेत वाकुन त्यांच्या चरणांना स्पर्श केला. मतांच्या गोळाबेरजेत आपण विजयी झालेलो असलो तरी मधु दंडवतें या व्यक्तीचे कोकणप्रती असलेले योगदान प्रभुना चांगलेच ठाऊक होते."
      ],
      "metadata": {
        "id": "t_T1yktOvSz9"
      }
    },
    {
      "cell_type": "markdown",
      "source": [
        "Manual Tag: O B-PER I-PER B-PER I-PER O B-PER I-PER O O O O O O O B-PER I-PER O O O O O O O O B-PER I-PER O O O O O O O O O O O O O O O B-PER I-PER O O B-LOC O O B-PER O O O O\n",
        "\n",
        "ChatGPT Tag: [\n",
        "    {'word': 'यावेळी', 'tag': 'O'},\n",
        "    {'word': 'सुरेश', 'tag': 'B-PER'},\n",
        "    {'word': 'प्रभुनी', 'tag': 'I-PER'},\n",
        "    {'word': 'सुधीर', 'tag': 'I-PER'},\n",
        "    {'word': 'सावंत', 'tag': 'O'},\n",
        "    {'word': 'व', 'tag': 'B-PER'},\n",
        "    {'word': 'मधु', 'tag': 'I-PER'},\n",
        "    {'word': 'दंडवते', 'tag': 'O'},\n",
        "    {'word': 'या', 'tag': 'O'},\n",
        "    {'word': 'दोघांचाही', 'tag': 'O'},\n",
        "    {'word': 'पराभव', 'tag': 'O'},\n",
        "    {'word': 'केला', 'tag': 'O'},\n",
        "    {'word': '.', 'tag': 'O'},\n",
        "    {'word': 'त्यावेळी', 'tag': 'O'},\n",
        "    {'word': 'निकालादिवशी', 'tag': 'B-PER'},\n",
        "    {'word': 'सुरेश', 'tag': 'I-PER'},\n",
        "    {'word': 'प्रभुंना', 'tag': 'I-PER'},\n",
        "    {'word': 'विजयी', 'tag': 'O'},\n",
        "    {'word': 'घोषित', 'tag': 'O'},\n",
        "    {'word': 'केल्यानंतर', 'tag': 'O'},\n",
        "    {'word': 'त्यांनी', 'tag': 'O'},\n",
        "    {'word': 'लगेचच', 'tag': 'O'},\n",
        "    {'word': 'शेजारी', 'tag': 'O'},\n",
        "    {'word': 'उभे', 'tag': 'O'},\n",
        "    {'word': 'असलेल्या', 'tag': 'O'},\n",
        "    {'word': 'मधु', 'tag': 'B-PER'},\n",
        "    {'word': 'दंडवतेंची', 'tag': 'I-PER'},\n",
        "    {'word': 'भेट', 'tag': 'O'},\n",
        "    {'word': 'घेत', 'tag': 'O'},\n",
        "    {'word': 'वाकुन', 'tag': 'O'},\n",
        "    {'word': 'त्यांच्या', 'tag': 'O'},\n",
        "    {'word': 'चरणांना', 'tag': 'O'},\n",
        "    {'word': 'स्पर्श', 'tag': 'O'},\n",
        "    {'word': 'केला', 'tag': 'O'},\n",
        "    {'word': '.', 'tag': 'O'},\n",
        "    {'word': 'मतांच्या', 'tag': 'O'},\n",
        "    {'word': 'गोळाबेरजेत', 'tag': 'O'},\n",
        "    {'word': 'आपण', 'tag': 'O'},\n",
        "    {'word': 'विजयी', 'tag': 'O'},\n",
        "    {'word': 'झालेलो', 'tag': 'O'},\n",
        "    {'word': 'असलो', 'tag': 'O'},\n",
        "    {'word': 'तरी', 'tag': 'O'},\n",
        "    {'word': 'मधु', 'tag': 'B-PER'},\n",
        "    {'word': 'दंडवतें', 'tag': 'I-PER'},\n",
        "    {'word': 'या', 'tag': 'O'},\n",
        "    {'word': 'व्यक्तीचे', 'tag': 'O'},\n",
        "    {'word': 'कोकणप्रती', 'tag': 'O'},\n",
        "    {'word': 'असलेले', 'tag': 'O'},\n",
        "    {'word': 'योगदान', 'tag': 'O'},\n",
        "    {'word': 'प्रभुना', 'tag': 'O'},\n",
        "    {'word': 'चांगलेच', 'tag': 'O'},\n",
        "    {'word': 'ठाऊक', 'tag': 'O'},\n",
        "    {'word': 'होते', 'tag': 'O'},\n",
        "    {'word': '.', 'tag': 'O'}\n",
        "]\n"
      ],
      "metadata": {
        "id": "N3sgltXuzLT9"
      }
    },
    {
      "cell_type": "markdown",
      "source": [
        "####6. सव्वाशे वर्षे अखंड पाणीपुरवठा : संस्थानकालीन योजना : सुधारित 45 कोटींचा आराखडा लवकरच मंजूर"
      ],
      "metadata": {
        "id": "z1jpW7FnvWNV"
      }
    },
    {
      "cell_type": "markdown",
      "source": [
        "Manual Tag: B-MISC I-MISC O O O O O O O B-MISC I-MISC O O O\n",
        "\n",
        "\n",
        "ChatGPT Tag: [\n",
        "    {'word': 'सव्वाशे', 'tag': 'O'},\n",
        "    {'word': 'वर्षे', 'tag': 'O'},\n",
        "    {'word': 'अखंड', 'tag': 'O'},\n",
        "    {'word': 'पाणीपुरवठा', 'tag': 'O'},\n",
        "    {'word': ':', 'tag': 'O'},\n",
        "    {'word': 'संस्थानकालीन', 'tag': 'O'},\n",
        "    {'word': 'योजना', 'tag': 'O'},\n",
        "    {'word': ':', 'tag': 'O'},\n",
        "    {'word': 'सुधारित', 'tag': 'O'},\n",
        "    {'word': '45', 'tag': 'O'},\n",
        "    {'word': 'कोटींचा', 'tag': 'O'},\n",
        "    {'word': 'आराखडा', 'tag': 'O'},\n",
        "    {'word': 'लवकरच', 'tag': 'O'},\n",
        "    {'word': 'मंजूर', 'tag': 'O'}\n",
        "]\n"
      ],
      "metadata": {
        "id": "6t-g0Swg0C78"
      }
    },
    {
      "cell_type": "markdown",
      "source": [
        "####7. कार्यक्रम सर्वांना खुला असून, रसिकांनी उपस्थित रहावे असे आवाहन लोकमान्य ग्रंथालयाने केले आहे."
      ],
      "metadata": {
        "id": "zzXnTL4hvZbi"
      }
    },
    {
      "cell_type": "markdown",
      "source": [
        "Manual Tag: O O O O O O O O O O B-ORG I-ORG O O O\n",
        "\n",
        "ChatGPT Tag: [\n",
        "    {'word': 'कार्यक्रम', 'tag': 'O'},\n",
        "    {'word': 'सर्वांना', 'tag': 'O'},\n",
        "    {'word': 'खुला', 'tag': 'O'},\n",
        "    {'word': 'असून', 'tag': 'O'},\n",
        "    {'word': ',', 'tag': 'O'},\n",
        "    {'word': 'रसिकांनी', 'tag': 'O'},\n",
        "    {'word': 'उपस्थित', 'tag': 'O'},\n",
        "    {'word': 'रहावे', 'tag': 'O'},\n",
        "    {'word': 'असे', 'tag': 'O'},\n",
        "    {'word': 'आवाहन', 'tag': 'O'},\n",
        "    {'word': 'लोकमान्य', 'tag': 'O'},\n",
        "    {'word': 'ग्रंथालयाने', 'tag': 'O'},\n",
        "    {'word': 'केले', 'tag': 'O'},\n",
        "    {'word': 'आहे', 'tag': 'O'},\n",
        "    {'word': '.', 'tag': 'O'}\n",
        "]\n"
      ],
      "metadata": {
        "id": "QkINfQJb0SIh"
      }
    },
    {
      "cell_type": "markdown",
      "source": [
        "####8. विमोचन आणि तो एक पादचारी दाबा आणि एक कार दाबा होते तेव्हा, उदाहरणार्थ, गुन्हा मागोवा लपविण्यासाठी मानले जाते."
      ],
      "metadata": {
        "id": "2QE4_hpqveaB"
      }
    },
    {
      "cell_type": "markdown",
      "source": [
        "Manual Tag: O O O O O O O O O O O O O O O O O O O O O\n",
        "\n",
        "ChatGPT Tag: [\n",
        "    {'word': 'विमोचन', 'tag': 'O'},\n",
        "    {'word': 'आणि', 'tag': 'O'},\n",
        "    {'word': 'तो', 'tag': 'O'},\n",
        "    {'word': 'एक', 'tag': 'O'},\n",
        "    {'word': 'पादचारी', 'tag': 'O'},\n",
        "    {'word': 'दाबा', 'tag': 'O'},\n",
        "    {'word': 'आणि', 'tag': 'O'},\n",
        "    {'word': 'एक', 'tag': 'O'},\n",
        "    {'word': 'कार', 'tag': 'O'},\n",
        "    {'word': 'दाबा', 'tag': 'O'},\n",
        "    {'word': 'होते', 'tag': 'O'},\n",
        "    {'word': 'तेव्हा', 'tag': 'O'},\n",
        "    {'word': ',', 'tag': 'O'},\n",
        "    {'word': 'उदाहरणार्थ', 'tag': 'O'},\n",
        "    {'word': ',', 'tag': 'O'},\n",
        "    {'word': 'गुन्हा', 'tag': 'O'},\n",
        "    {'word': 'मागोवा', 'tag': 'O'},\n",
        "    {'word': 'लपविण्यासाठी', 'tag': 'O'},\n",
        "    {'word': 'मानले', 'tag': 'O'},\n",
        "    {'word': 'जाते', 'tag': 'O'},\n",
        "    {'word': '.', 'tag': 'O'}\n",
        "]\n"
      ],
      "metadata": {
        "id": "H95GfAnu45pv"
      }
    },
    {
      "cell_type": "markdown",
      "source": [
        "####9. निसर्गराजा मित्र जीवांचे ही संस्था गेली दहा वर्षे पिंपरी-चिंचवड परिसरातील तरुणांना एकत्र करून निसर्ग संवर्धनाची कार्ये विविध उपक्रमांद्वारे करत आहे."
      ],
      "metadata": {
        "id": "eGH9k4qJvibq"
      }
    },
    {
      "cell_type": "markdown",
      "source": [
        "Manual Tag: B-ORG I-ORG I-ORG O O O B-MISC I-MISC B-LOC O B-LOC O O O O O O O O O O O O\n",
        "\n",
        "ChatGPT Tag: [\n",
        "    {'word': 'निसर्गराजा', 'tag': 'O'},\n",
        "    {'word': 'मित्र', 'tag': 'O'},\n",
        "    {'word': 'जीवांचे', 'tag': 'O'},\n",
        "    {'word': 'ही', 'tag': 'O'},\n",
        "    {'word': 'संस्था', 'tag': 'O'},\n",
        "    {'word': 'गेली', 'tag': 'O'},\n",
        "    {'word': 'दहा', 'tag': 'O'},\n",
        "    {'word': 'वर्षे', 'tag': 'O'},\n",
        "    {'word': 'पिंपरी-चिंचवड', 'tag': 'O'},\n",
        "    {'word': 'परिसरातील', 'tag': 'O'},\n",
        "    {'word': 'तरुणांना', 'tag': 'O'},\n",
        "    {'word': 'एकत्र', 'tag': 'O'},\n",
        "    {'word': 'करून', 'tag': 'O'},\n",
        "    {'word': 'निसर्ग', 'tag': 'O'},\n",
        "    {'word': 'संवर्धनाची', 'tag': 'O'},\n",
        "    {'word': 'कार्ये', 'tag': 'O'},\n",
        "    {'word': 'विविध', 'tag': 'O'},\n",
        "    {'word': 'उपक्रमांद्वारे', 'tag': 'O'},\n",
        "    {'word': 'करत', 'tag': 'O'},\n",
        "    {'word': 'आहे', 'tag': 'O'},\n",
        "    {'word': '.', 'tag': 'O'}\n",
        "]\n"
      ],
      "metadata": {
        "id": "Ha41Uy9I5D0K"
      }
    },
    {
      "cell_type": "markdown",
      "source": [
        "####10. कल्याण-डोंबिवली मध्ये माथाडी कामगारही उद्या बंदमध्ये सहभागी होणार असून एक भव्य मोर्चाही काढण्यात येणार आहे.\n"
      ],
      "metadata": {
        "id": "KwskymfHvk4F"
      }
    },
    {
      "cell_type": "markdown",
      "source": [
        "Manual Tag: B-LOC O B-LOC O O O O O O O O O O O O O O O\n",
        "\n",
        "ChatGPT Tag:[\n",
        "    {'word': 'कल्याण-डोंबिवली', 'tag': 'O'},\n",
        "    {'word': 'मध्ये', 'tag': 'O'},\n",
        "    {'word': 'माथाडी', 'tag': 'O'},\n",
        "    {'word': 'कामगारही', 'tag': 'O'},\n",
        "    {'word': 'उद्या', 'tag': 'O'},\n",
        "    {'word': 'बंदमध्ये', 'tag': 'O'},\n",
        "    {'word': 'सहभागी', 'tag': 'O'},\n",
        "    {'word': 'होणार', 'tag': 'O'},\n",
        "    {'word': 'असून', 'tag': 'O'},\n",
        "    {'word': 'एक', 'tag': 'O'},\n",
        "    {'word': 'भव्य', 'tag': 'O'},\n",
        "    {'word': 'मोर्चाही', 'tag': 'O'},\n",
        "    {'word': 'काढण्यात', 'tag': 'O'},\n",
        "    {'word': 'येणार', 'tag': 'O'},\n",
        "    {'word': 'आहे', 'tag': 'O'},\n",
        "    {'word': '.', 'tag': 'O'}\n",
        "]\n"
      ],
      "metadata": {
        "id": "phuAVgBf5Wa3"
      }
    },
    {
      "cell_type": "markdown",
      "source": [
        "####11. दोन्ही ट्रकचा अपघात एवढा भीषण होता की ट्रकच्या समोरील बाजूचा चक्काचुर होऊन त्यामध्ये ट्रकचालक अडकले होते."
      ],
      "metadata": {
        "id": "RTThiuKUvndY"
      }
    },
    {
      "cell_type": "markdown",
      "source": [
        "Manual Tag: B-MISC I-MISC O O O O O O O O O O O B-MISC O O O\n",
        "\n",
        "ChatGPT Tag: [\n",
        "    {'word': 'दोन्ही', 'tag': 'O'},\n",
        "    {'word': 'ट्रकचा', 'tag': 'O'},\n",
        "    {'word': 'अपघात', 'tag': 'O'},\n",
        "    {'word': 'एवढा', 'tag': 'O'},\n",
        "    {'word': 'भीषण', 'tag': 'O'},\n",
        "    {'word': 'होता', 'tag': 'O'},\n",
        "    {'word': 'की', 'tag': 'O'},\n",
        "    {'word': 'ट्रकच्या', 'tag': 'O'},\n",
        "    {'word': 'समोरील', 'tag': 'O'},\n",
        "    {'word': 'बाजूचा', 'tag': 'O'},\n",
        "    {'word': 'चक्काचुर', 'tag': 'O'},\n",
        "    {'word': 'होऊन', 'tag': 'O'},\n",
        "    {'word': 'त्यामध्ये', 'tag': 'O'},\n",
        "    {'word': 'ट्रकचालक', 'tag': 'O'},\n",
        "    {'word': 'अडकले', 'tag': 'O'},\n",
        "    {'word': 'होते', 'tag': 'O'},\n",
        "    {'word': '.', 'tag': 'O'}\n",
        "]\n"
      ],
      "metadata": {
        "id": "Y7bRZ4NH5f0E"
      }
    },
    {
      "cell_type": "markdown",
      "source": [
        "####12. सिबिल या संस्थेने प्रसिद्ध केलेल्या माहितीनुसार, 2018 मध्ये जाणूनबुजून कर्ज बुडविणाऱ्या मंडळींच्या संख्येत मोठ्या प्रमाणावर वाढ झाली आहे."
      ],
      "metadata": {
        "id": "f5ZQvgIZvpzx"
      }
    },
    {
      "cell_type": "markdown",
      "source": [
        "Manual Tag: B-ORG O O O O O O B-MISC O O O O O O O O O O O O\n",
        "\n",
        "ChatGPT Tag: [\n",
        "    {'word': 'सिबिल', 'tag': 'O'},\n",
        "    {'word': 'या', 'tag': 'O'},\n",
        "    {'word': 'संस्थेने', 'tag': 'O'},\n",
        "    {'word': 'प्रसिद्ध', 'tag': 'O'},\n",
        "    {'word': 'केलेल्या', 'tag': 'O'},\n",
        "    {'word': 'माहितीनुसार', 'tag': 'O'},\n",
        "    {'word': ',', 'tag': 'O'},\n",
        "    {'word': '2018', 'tag': 'O'},\n",
        "    {'word': 'मध्ये', 'tag': 'O'},\n",
        "    {'word': 'जाणूनबुजून', 'tag': 'O'},\n",
        "    {'word': 'कर्ज', 'tag': 'O'},\n",
        "    {'word': 'बुडविणाऱ्या', 'tag': 'O'},\n",
        "    {'word': 'मंडळींच्या', 'tag': 'O'},\n",
        "    {'word': 'संख्येत', 'tag': 'O'},\n",
        "    {'word': 'मोठ्या', 'tag': 'O'},\n",
        "    {'word': 'प्रमाणावर', 'tag': 'O'},\n",
        "    {'word': 'वाढ', 'tag': 'O'},\n",
        "    {'word': 'झाली', 'tag': 'O'},\n",
        "    {'word': 'आहे', 'tag': 'O'},\n",
        "    {'word': '.', 'tag': 'O'}\n",
        "]\n"
      ],
      "metadata": {
        "id": "Xlt4es-g5qgR"
      }
    },
    {
      "cell_type": "markdown",
      "source": [
        "####13. श्रीराम लागू -   मराठी रंगभूमीचे अनभिषिक्त सम्राट, चतुरस्र अभिनेते, परखड. . . 30 डिसेंबरला होणाऱ्या शपथविधी सोहळ्याची विधानभवनात जोरदार तयारी सुरू\n"
      ],
      "metadata": {
        "id": "HXQSgF9ZvvGh"
      }
    },
    {
      "cell_type": "markdown",
      "source": [
        "Manual Tag: B-PER I-PER O O O O O O O O O O O O O B-MISC I-MISC O O O O O O O\n",
        "\n",
        "ChatGPT Tag: [\n",
        "    {'word': 'श्रीराम', 'tag': 'B-PER'},\n",
        "    {'word': 'लागू', 'tag': 'I-PER'},\n",
        "    {'word': '-', 'tag': 'O'},\n",
        "    {'word': 'मराठी', 'tag': 'O'},\n",
        "    {'word': 'रंगभूमीचे', 'tag': 'O'},\n",
        "    {'word': 'अनभिषिक्त', 'tag': 'O'},\n",
        "    {'word': 'सम्राट', 'tag': 'O'},\n",
        "    {'word': ',', 'tag': 'O'},\n",
        "    {'word': 'चतुरस्र', 'tag': 'O'},\n",
        "    {'word': 'अभिनेते', 'tag': 'O'},\n",
        "    {'word': ',', 'tag': 'O'},\n",
        "    {'word': 'परखड', 'tag': 'O'},\n",
        "    {'word': '.', 'tag': 'O'},\n",
        "    {'word': '.', 'tag': 'O'},\n",
        "    {'word': '30', 'tag': 'O'},\n",
        "    {'word': 'डिसेंबरला', 'tag': 'O'},\n",
        "    {'word': 'होणाऱ्या', 'tag': 'O'},\n",
        "    {'word': 'शपथविधी', 'tag': 'O'},\n",
        "    {'word': 'सोहळ्याची', 'tag': 'O'},\n",
        "    {'word': 'विधानभवनात', 'tag': 'O'},\n",
        "    {'word': 'जोरदार', 'tag': 'O'},\n",
        "    {'word': 'तयारी', 'tag': 'O'},\n",
        "    {'word': 'सुरू', 'tag': 'O'}\n",
        "]\n"
      ],
      "metadata": {
        "id": "YE5RbXnA5z_x"
      }
    },
    {
      "cell_type": "markdown",
      "source": [
        "####14. कडाप्पे अंगावर पडून दोन कामगारांचा जागीच मृत्यू, चार जण गंभीर\n"
      ],
      "metadata": {
        "id": "1iqa0hxMvvDJ"
      }
    },
    {
      "cell_type": "markdown",
      "source": [
        "Manual Tag: O O O B-MISC O O O O B-MISC O O\n",
        "\n",
        "ChatGPT Tag: [\n",
        "    {'word': 'कडाप्पे', 'tag': 'O'},\n",
        "    {'word': 'अंगावर', 'tag': 'O'},\n",
        "    {'word': 'पडून', 'tag': 'O'},\n",
        "    {'word': 'दोन', 'tag': 'O'},\n",
        "    {'word': 'कामगारांचा', 'tag': 'O'},\n",
        "    {'word': 'जागीच', 'tag': 'O'},\n",
        "    {'word': 'मृत्यू', 'tag': 'O'},\n",
        "    {'word': ',', 'tag': 'O'},\n",
        "    {'word': 'चार', 'tag': 'O'},\n",
        "    {'word': 'जण', 'tag': 'O'},\n",
        "    {'word': 'गंभीर', 'tag': 'O'}\n",
        "]\n"
      ],
      "metadata": {
        "id": "4fM7xRVT58SS"
      }
    },
    {
      "cell_type": "markdown",
      "source": [
        "####15. मात्र सत्ताधा-यांनी या विरोधाला न जुमानता हा प्रस्ताव मंजूर केला.\n"
      ],
      "metadata": {
        "id": "Y7WdwHhmv13b"
      }
    },
    {
      "cell_type": "markdown",
      "source": [
        "Manual Tag: O O O O O O O O O O O\n",
        "\n",
        "ChatGPT Tag: [\n",
        "    {'word': 'मात्र', 'tag': 'O'},\n",
        "    {'word': 'सत्ताधा-यांनी', 'tag': 'O'},\n",
        "    {'word': 'या', 'tag': 'O'},\n",
        "    {'word': 'विरोधाला', 'tag': 'O'},\n",
        "    {'word': 'न', 'tag': 'O'},\n",
        "    {'word': 'जुमानता', 'tag': 'O'},\n",
        "    {'word': 'हा', 'tag': 'O'},\n",
        "    {'word': 'प्रस्ताव', 'tag': 'O'},\n",
        "    {'word': 'मंजूर', 'tag': 'O'},\n",
        "    {'word': 'केला', 'tag': 'O'},\n",
        "    {'word': '.', 'tag': 'O'}\n",
        "]\n"
      ],
      "metadata": {
        "id": "ykoi6rrZ6DOT"
      }
    },
    {
      "cell_type": "markdown",
      "source": [
        "####16. रजनीकांत यांच्यावर प्रेम करणाऱ्या त्याच्या चाहत्यांची संख्या खूप मोठी आहे.\n"
      ],
      "metadata": {
        "id": "VgobFALIv39h"
      }
    },
    {
      "cell_type": "markdown",
      "source": [
        "Manual Tag: B-PER O O O O O O O O O O\n",
        "\n",
        "ChatGPT Tag: [\n",
        "    {'word': 'रजनीकांत', 'tag': 'B-PER'},\n",
        "    {'word': 'यांच्यावर', 'tag': 'I-PER'},\n",
        "    {'word': 'प्रेम', 'tag': 'O'},\n",
        "    {'word': 'करणाऱ्या', 'tag': 'O'},\n",
        "    {'word': 'त्याच्या', 'tag': 'O'},\n",
        "    {'word': 'चाहत्यांची', 'tag': 'O'},\n",
        "    {'word': 'संख्या', 'tag': 'O'},\n",
        "    {'word': 'खूप', 'tag': 'O'},\n",
        "    {'word': 'मोठी', 'tag': 'O'},\n",
        "    {'word': 'आहे', 'tag': 'O'}\n",
        "]\n"
      ],
      "metadata": {
        "id": "JwnpDfIM6Swq"
      }
    },
    {
      "cell_type": "markdown",
      "source": [
        "####17. एक हजार आणि एक आहेत  नवीन वर्ष परिस्थिती  प्रौढांसाठी घरी सर्जनशीलता आणि कल्पकता प्रदर्शित, आपण अविस्मरणीय काहीतरी अनुकूल कंपनी सामान्य साधना चालू शकत नाही, म्हणून.\n"
      ],
      "metadata": {
        "id": "waz3wuNQv7K_"
      }
    },
    {
      "cell_type": "markdown",
      "source": [
        "Manual Tag: B-MISC I-MISC O B-MISC O O O O O O O O O O O O O O O O O O O O O O O O\n",
        "\n",
        "ChatGPT Tag: [\n",
        "    {'word': 'एक', 'tag': 'O'},\n",
        "    {'word': 'हजार', 'tag': 'O'},\n",
        "    {'word': 'आणि', 'tag': 'O'},\n",
        "    {'word': 'एक', 'tag': 'O'},\n",
        "    {'word': 'आहेत', 'tag': 'O'},\n",
        "    {'word': 'नवीन', 'tag': 'O'},\n",
        "    {'word': 'वर्ष', 'tag': 'O'},\n",
        "    {'word': 'परिस्थिती', 'tag': 'O'},\n",
        "    {'word': 'प्रौढांसाठी', 'tag': 'O'},\n",
        "    {'word': 'घरी', 'tag': 'O'},\n",
        "    {'word': 'सर्जनशीलता', 'tag': 'O'},\n",
        "    {'word': 'आणि', 'tag': 'O'},\n",
        "    {'word': 'कल्पकता', 'tag': 'O'},\n",
        "    {'word': 'प्रदर्शित', 'tag': 'O'},\n",
        "    {'word': ',', 'tag': 'O'},\n",
        "    {'word': 'आपण', 'tag': 'O'},\n",
        "    {'word': 'अविस्मरणीय', 'tag': 'O'},\n",
        "    {'word': 'काहीतरी', 'tag': 'O'},\n",
        "    {'word': 'अनुकूल', 'tag': 'O'},\n",
        "    {'word': 'कंपनी', 'tag': 'O'},\n",
        "    {'word': 'सामान्य', 'tag': 'O'},\n",
        "    {'word': 'साधना', 'tag': 'O'},\n",
        "    {'word': 'चालू', 'tag': 'O'},\n",
        "    {'word': 'शकत', 'tag': 'O'},\n",
        "    {'word': 'नाही', 'tag': 'O'},\n",
        "    {'word': ',', 'tag': 'O'},\n",
        "    {'word': 'म्हणून', 'tag': 'O'},\n",
        "    {'word': '.', 'tag': 'O'}\n",
        "]\n"
      ],
      "metadata": {
        "id": "3WPY_IQS6c4Q"
      }
    },
    {
      "cell_type": "markdown",
      "source": [
        "####18. नेपाळच्या सौनाली जवळील पडासरी भागातील एका कारखान्यात झालेल्या प्रचंड स्फोटांच्या झळा भारतीय सीमेपर्यंतही पोहोचल्या असून या भागात सीमा सुरक्षा दलाची गस्त वाढविली गेली आहे.\n"
      ],
      "metadata": {
        "id": "fiyA4fb9v9wA"
      }
    },
    {
      "cell_type": "markdown",
      "source": [
        "Manual Tag: B-LOC B-LOC O B-LOC O O O O O O O B-LOC I-LOC O O O O B-ORG I-ORG I-ORG O O O O O\n",
        "\n",
        "ChatGPT Tag: [\n",
        "    {'word': 'नेपाळच्या', 'tag': 'O'},\n",
        "    {'word': 'सौनाली', 'tag': 'O'},\n",
        "    {'word': 'जवळील', 'tag': 'O'},\n",
        "    {'word': 'पडासरी', 'tag': 'O'},\n",
        "    {'word': 'भागातील', 'tag': 'O'},\n",
        "    {'word': 'एका', 'tag': 'O'},\n",
        "    {'word': 'कारखान्यात', 'tag': 'O'},\n",
        "    {'word': 'झालेल्या', 'tag': 'O'},\n",
        "    {'word': 'प्रचंड', 'tag': 'O'},\n",
        "    {'word': 'स्फोटांच्या', 'tag': 'O'},\n",
        "    {'word': 'झळा', 'tag': 'O'},\n",
        "    {'word': 'भारतीय', 'tag': 'O'},\n",
        "    {'word': 'सीमेपर्यंतही', 'tag': 'O'},\n",
        "    {'word': 'पोहोचल्या', 'tag': 'O'},\n",
        "    {'word': 'असून', 'tag': 'O'},\n",
        "    {'word': 'या', 'tag': 'O'},\n",
        "    {'word': 'भागात', 'tag': 'O'},\n",
        "    {'word': 'सीमा', 'tag': 'O'},\n",
        "    {'word': 'सुरक्षा', 'tag': 'O'},\n",
        "    {'word': 'दलाची', 'tag': 'O'},\n",
        "    {'word': 'गस्त', 'tag': 'O'},\n",
        "    {'word': 'वाढविली', 'tag': 'O'},\n",
        "    {'word': 'गेली', 'tag': 'O'},\n",
        "    {'word': 'आहे', 'tag': 'O'},\n",
        "    {'word': '.', 'tag': 'O'}\n",
        "]\n"
      ],
      "metadata": {
        "id": "o3i0dHVf7AW7"
      }
    },
    {
      "cell_type": "markdown",
      "source": [
        "####19. तसेच शाळांना लागलेल्या सुट्टय़ा, लग्न सराई, जत्रा, यात्रा . . . तीन ग्रामपंचायतीसाठी आज मतदान\n"
      ],
      "metadata": {
        "id": "7qXlIT7awAEv"
      }
    },
    {
      "cell_type": "markdown",
      "source": [
        "Manual Tag: O O O O O O O O O O O O O O B-MISC B-ORG O O\n",
        "\n",
        "ChatGPT Tag: [\n",
        "    {'word': 'तसेच', 'tag': 'O'},\n",
        "    {'word': 'शाळांना', 'tag': 'O'},\n",
        "    {'word': 'लागलेल्या', 'tag': 'O'},\n",
        "    {'word': 'सुट्टय़ा', 'tag': 'O'},\n",
        "    {'word': ',', 'tag': 'O'},\n",
        "    {'word': 'लग्न', 'tag': 'O'},\n",
        "    {'word': 'सराई', 'tag': 'O'},\n",
        "    {'word': ',', 'tag': 'O'},\n",
        "    {'word': 'जत्रा', 'tag': 'O'},\n",
        "    {'word': ',', 'tag': 'O'},\n",
        "    {'word': 'यात्रा', 'tag': 'O'},\n",
        "    {'word': '\\xa0', 'tag': 'O'},\n",
        "    {'word': '.', 'tag': 'O'},\n",
        "    {'word': '.', 'tag': 'O'},\n",
        "    {'word': '.', 'tag': 'O'},\n",
        "    {'word': 'तीन', 'tag': 'O'},\n",
        "    {'word': 'ग्रामपंचायतीसाठी', 'tag': 'O'},\n",
        "    {'word': 'आज', 'tag': 'O'},\n",
        "    {'word': 'मतदान', 'tag': 'O'}\n",
        "]\n"
      ],
      "metadata": {
        "id": "9sQDsSQ37Suq"
      }
    },
    {
      "cell_type": "markdown",
      "source": [
        "####20. जग आपण सुमारे गोल फिरणे नाही, तो एक तारीख लक्षात विशेषतः महत्वाचे आहे.\n"
      ],
      "metadata": {
        "id": "FEs9jtTYwCa0"
      }
    },
    {
      "cell_type": "markdown",
      "source": [
        "Manual Tag: O O O O O O O O O O O O O O O\n",
        "\n",
        "ChatGPT Tag: [\n",
        "    {'word': 'जग', 'tag': 'O'},\n",
        "    {'word': 'आपण', 'tag': 'O'},\n",
        "    {'word': 'सुमारे', 'tag': 'O'},\n",
        "    {'word': 'गोल', 'tag': 'O'},\n",
        "    {'word': 'फिरणे', 'tag': 'O'},\n",
        "    {'word': 'नाही', 'tag': 'O'},\n",
        "    {'word': ',', 'tag': 'O'},\n",
        "    {'word': 'तो', 'tag': 'O'},\n",
        "    {'word': 'एक', 'tag': 'O'},\n",
        "    {'word': 'तारीख', 'tag': 'O'},\n",
        "    {'word': 'लक्षात', 'tag': 'O'},\n",
        "    {'word': 'विशेषतः', 'tag': 'O'},\n",
        "    {'word': 'महत्वाचे', 'tag': 'O'},\n",
        "    {'word': 'आहे', 'tag': 'O'},\n",
        "    {'word': '.', 'tag': 'O'}\n",
        "]\n"
      ],
      "metadata": {
        "id": "IcOfTZoT7dWC"
      }
    },
    {
      "cell_type": "markdown",
      "source": [
        "####21. देशाचे विभाजन करणाऱ्यांनाच नव्हे तर अशा लोकांशी हातमिळवणी करणाऱ्यांनाही देशाच्या सत्ताकारणात यापुढे थारा मिळू नये.\n"
      ],
      "metadata": {
        "id": "s3fHCeurwErN"
      }
    },
    {
      "cell_type": "markdown",
      "source": [
        "Manual Tag: O O O O O O O O O O O O O O O O\n",
        "\n",
        "ChatGPT Tag: [\n",
        "    {'word': 'देशाचे', 'tag': 'O'},\n",
        "    {'word': 'विभाजन', 'tag': 'O'},\n",
        "    {'word': 'करणाऱ्यांनाच', 'tag': 'O'},\n",
        "    {'word': 'नव्हे', 'tag': 'O'},\n",
        "    {'word': 'तर', 'tag': 'O'},\n",
        "    {'word': 'अशा', 'tag': 'O'},\n",
        "    {'word': 'लोकांशी', 'tag': 'O'},\n",
        "    {'word': 'हातमिळवणी', 'tag': 'O'},\n",
        "    {'word': 'करणाऱ्यांनाही', 'tag': 'O'},\n",
        "    {'word': 'देशाच्या', 'tag': 'O'},\n",
        "    {'word': 'सत्ताकारणात', 'tag': 'O'},\n",
        "    {'word': 'यापुढे', 'tag': 'O'},\n",
        "    {'word': 'थारा', 'tag': 'O'},\n",
        "    {'word': 'मिळू', 'tag': 'O'},\n",
        "    {'word': 'नये', 'tag': 'O'},\n",
        "    {'word': '.', 'tag': 'O'}\n",
        "]\n"
      ],
      "metadata": {
        "id": "L6JAAjoz7z1A"
      }
    },
    {
      "cell_type": "markdown",
      "source": [
        "####22. माजी जागतिक उपविजेता मुंबईचा दुसरा मानांकित मोहम्मद गुफरानने मुबंइ उपनगरच्या इश्तियाक अन्सारीचे 25-6, 25-8 असे आव्हान परतवून लावले.\n"
      ],
      "metadata": {
        "id": "0lH2w9DtwHZf"
      }
    },
    {
      "cell_type": "markdown",
      "source": [
        "Manual Tag: O O O B-LOC B-MISC O B-PER I-PER B-LOC I-LOC B-PER I-PER B-MISC O B-MISC O B-MISC O B-MISC O O O O O\n",
        "\n",
        "ChatGPT Tag: [\n",
        "    {'word': 'माजी', 'tag': 'O'},\n",
        "    {'word': 'जागतिक', 'tag': 'O'},\n",
        "    {'word': 'उपविजेता', 'tag': 'O'},\n",
        "    {'word': 'मुंबईचा', 'tag': 'O'},\n",
        "    {'word': 'दुसरा', 'tag': 'O'},\n",
        "    {'word': 'मानांकित', 'tag': 'O'},\n",
        "    {'word': 'मोहम्मद', 'tag': 'O'},\n",
        "    {'word': 'गुफरानने', 'tag': 'O'},\n",
        "    {'word': 'मुबंइ', 'tag': 'O'},\n",
        "    {'word': 'उपनगरच्या', 'tag': 'O'},\n",
        "    {'word': 'इश्तियाक', 'tag': 'O'},\n",
        "    {'word': 'अन्सारीचे', 'tag': 'O'},\n",
        "    {'word': '25-6', 'tag': 'O'},\n",
        "    {'word': ',', 'tag': 'O'},\n",
        "    {'word': '25-8', 'tag': 'O'},\n",
        "    {'word': 'असे', 'tag': 'O'},\n",
        "    {'word': 'आव्हान', 'tag': 'O'},\n",
        "    {'word': 'परतवून', 'tag': 'O'},\n",
        "    {'word': 'लावले', 'tag': 'O'},\n",
        "    {'word': '.', 'tag': 'O'}\n",
        "]\n"
      ],
      "metadata": {
        "id": "DK5c52zT77LE"
      }
    },
    {
      "cell_type": "markdown",
      "source": [
        "####23. तथापि, एक दीर्घ परंपरा आणि काम नीतिविषयक लोभ उद्ध्वस्त होते.\n"
      ],
      "metadata": {
        "id": "AnObUSrJwQnX"
      }
    },
    {
      "cell_type": "markdown",
      "source": [
        "Manual Tag: O O O O O O O O O O O O\n",
        "\n",
        "ChatGPT Tag: [\n",
        "    {'word': 'तथापि', 'tag': 'O'},\n",
        "    {'word': ',', 'tag': 'O'},\n",
        "    {'word': 'एक', 'tag': 'O'},\n",
        "    {'word': 'दीर्घ', 'tag': 'O'},\n",
        "    {'word': 'परंपरा', 'tag': 'O'},\n",
        "    {'word': 'आणि', 'tag': 'O'},\n",
        "    {'word': 'काम', 'tag': 'O'},\n",
        "    {'word': 'नीतिविषयक', 'tag': 'O'},\n",
        "    {'word': 'लोभ', 'tag': 'O'},\n",
        "    {'word': 'उद्ध्वस्त', 'tag': 'O'},\n",
        "    {'word': 'होते', 'tag': 'O'}\n",
        "]\n"
      ],
      "metadata": {
        "id": "UKmPopV-8BiT"
      }
    },
    {
      "cell_type": "markdown",
      "source": [
        "####24. सरकारने या अर्थसंकल्पीय अधिवेशनात शेतकऱ्यांना संपूर्ण कर्जमाफीची घोषणा करावी, या मागणीसाठी विरोधक आज आक्रमक झाले.\n"
      ],
      "metadata": {
        "id": "31fsDXnWwS84"
      }
    },
    {
      "cell_type": "markdown",
      "source": [
        "Manual Tag: O O O O B-MISC O O O O O O O O O O O O\n",
        "\n",
        "ChatGPT Tag: [\n",
        "    {'word': 'सरकारने', 'tag': 'O'},\n",
        "    {'word': 'या', 'tag': 'O'},\n",
        "    {'word': 'अर्थसंकल्पीय', 'tag': 'O'},\n",
        "    {'word': 'अधिवेशनात', 'tag': 'O'},\n",
        "    {'word': 'शेतकऱ्यांना', 'tag': 'O'},\n",
        "    {'word': 'संपूर्ण', 'tag': 'O'},\n",
        "    {'word': 'कर्जमाफीची', 'tag': 'O'},\n",
        "    {'word': 'घोषणा', 'tag': 'O'},\n",
        "    {'word': 'करावी', 'tag': 'O'},\n",
        "    {'word': ',', 'tag': 'O'},\n",
        "    {'word': 'या', 'tag': 'O'},\n",
        "    {'word': 'मागणीसाठी', 'tag': 'O'},\n",
        "    {'word': 'विरोधक', 'tag': 'O'},\n",
        "    {'word': 'आज', 'tag': 'O'},\n",
        "    {'word': 'आक्रमक', 'tag': 'O'},\n",
        "    {'word': 'झाले', 'tag': 'O'},\n",
        "    {'word': '.', 'tag': 'O'}\n",
        "]\n"
      ],
      "metadata": {
        "id": "6L65DiIu8Mx_"
      }
    },
    {
      "cell_type": "markdown",
      "source": [
        "####25. काँग्रेसचे विरोधक हे काँग्रेस मुक्त भारताची भाषा करतात तर संघाचे विरोधक संघ मुक्त भारताची.\n"
      ],
      "metadata": {
        "id": "lOh-pj0nwVMl"
      }
    },
    {
      "cell_type": "markdown",
      "source": [
        "Manual Tag: B-ORG O O B-ORG O B-LOC O O O B-ORG O B-ORG O B-LOC O\n",
        "\n",
        "ChatGPT Tag: [\n",
        "    {'word': 'काँग्रेसचे', 'tag': 'O'},\n",
        "    {'word': 'विरोधक', 'tag': 'O'},\n",
        "    {'word': 'हे', 'tag': 'O'},\n",
        "    {'word': 'काँग्रेस', 'tag': 'O'},\n",
        "    {'word': 'मुक्त', 'tag': 'O'},\n",
        "    {'word': 'भारताची', 'tag': 'O'},\n",
        "    {'word': 'भाषा', 'tag': 'O'},\n",
        "    {'word': 'करतात', 'tag': 'O'},\n",
        "    {'word': 'तर', 'tag': 'O'},\n",
        "    {'word': 'संघाचे', 'tag': 'O'},\n",
        "    {'word': 'विरोधक', 'tag': 'O'},\n",
        "    {'word': 'संघ', 'tag': 'O'},\n",
        "    {'word': 'मुक्त', 'tag': 'O'},\n",
        "    {'word': 'भारताची', 'tag': 'O'},\n",
        "    {'word': '.', 'tag': 'O'}\n",
        "]\n"
      ],
      "metadata": {
        "id": "L-_3Tdmu8Ym3"
      }
    }
  ]
}