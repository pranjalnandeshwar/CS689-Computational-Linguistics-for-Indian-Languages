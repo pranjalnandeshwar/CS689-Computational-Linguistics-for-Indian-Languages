{
  "nbformat": 4,
  "nbformat_minor": 0,
  "metadata": {
    "colab": {
      "provenance": [],
      "gpuType": "T4"
    },
    "kernelspec": {
      "name": "python3",
      "display_name": "Python 3"
    },
    "language_info": {
      "name": "python"
    },
    "accelerator": "GPU"
  },
  "cells": [
    {
      "cell_type": "code",
      "source": [
        "!pip install seqeval\n",
        "import seqeval\n",
        "from seqeval.metrics import classification_report, f1_score\n"
      ],
      "metadata": {
        "colab": {
          "base_uri": "https://localhost:8080/"
        },
        "id": "MwgG7sxgPt9B",
        "outputId": "fb1c2262-0d58-4cd9-a209-353f0f7107d3"
      },
      "execution_count": 1,
      "outputs": [
        {
          "output_type": "stream",
          "name": "stdout",
          "text": [
            "Collecting seqeval\n",
            "  Downloading seqeval-1.2.2.tar.gz (43 kB)\n",
            "\u001b[2K     \u001b[90m━━━━━━━━━━━━━━━━━━━━━━━━━━━━━━━━━━━━━━━━\u001b[0m \u001b[32m43.6/43.6 kB\u001b[0m \u001b[31m756.2 kB/s\u001b[0m eta \u001b[36m0:00:00\u001b[0m\n",
            "\u001b[?25h  Preparing metadata (setup.py) ... \u001b[?25l\u001b[?25hdone\n",
            "Requirement already satisfied: numpy>=1.14.0 in /usr/local/lib/python3.10/dist-packages (from seqeval) (1.25.2)\n",
            "Requirement already satisfied: scikit-learn>=0.21.3 in /usr/local/lib/python3.10/dist-packages (from seqeval) (1.2.2)\n",
            "Requirement already satisfied: scipy>=1.3.2 in /usr/local/lib/python3.10/dist-packages (from scikit-learn>=0.21.3->seqeval) (1.11.4)\n",
            "Requirement already satisfied: joblib>=1.1.1 in /usr/local/lib/python3.10/dist-packages (from scikit-learn>=0.21.3->seqeval) (1.3.2)\n",
            "Requirement already satisfied: threadpoolctl>=2.0.0 in /usr/local/lib/python3.10/dist-packages (from scikit-learn>=0.21.3->seqeval) (3.3.0)\n",
            "Building wheels for collected packages: seqeval\n",
            "  Building wheel for seqeval (setup.py) ... \u001b[?25l\u001b[?25hdone\n",
            "  Created wheel for seqeval: filename=seqeval-1.2.2-py3-none-any.whl size=16162 sha256=a9ea278ad2e97466cf61095d7228ac4f27759bb3964624bef9d9a40126cf0b7e\n",
            "  Stored in directory: /root/.cache/pip/wheels/1a/67/4a/ad4082dd7dfc30f2abfe4d80a2ed5926a506eb8a972b4767fa\n",
            "Successfully built seqeval\n",
            "Installing collected packages: seqeval\n",
            "Successfully installed seqeval-1.2.2\n"
          ]
        }
      ]
    },
    {
      "cell_type": "code",
      "source": [
        "chatgpt_tags = [['O', 'O', 'O', 'O', 'B-PER', 'I-PER', 'O', 'O', 'B-ORG', 'O', 'O', 'O', 'O'], #1\n",
        "                ['O', 'O', 'O', 'O', 'O', 'O', 'O', 'O', 'O', 'O', 'O'],\n",
        "                ['O', 'B-ORG', 'I-ORG', 'O', 'O', 'O', 'O', 'O', 'O', 'O', 'O'],\n",
        "                ['O','O', 'O', 'O', 'O', 'O', 'B-PER', 'I-PER', 'O', 'O', 'O', 'O', 'O', 'O', 'O', 'O', 'O', 'O', 'O'],\n",
        "                ['O', 'B-PER', 'I-PER', 'O', 'O', 'B-PER', 'I-PER', 'O', 'O', 'O', 'O', 'O', 'O', 'O', 'B-PER', 'I-PER', 'I-PER', 'O', 'O', 'O', 'O', 'O', 'O', 'O', 'O', 'O', 'O', 'O', 'B-PER', 'I-PER', 'O', 'O', 'O', 'O', 'O', 'O', 'O', 'O', 'O', 'O', 'O', 'B-PER', 'I-PER', 'O', 'O', 'O', 'O', 'O', 'O', 'O', 'O', 'O', 'O', 'O'],\n",
        "                ['O', 'O', 'O', 'O', 'O', 'O', 'O', 'O', 'O', 'O', 'O', 'O', 'O', 'O'], #6\n",
        "                ['O', 'O', 'O', 'O', 'O', 'O', 'O', 'O', 'O', 'O', 'O', 'O', 'O', 'O', 'O'],\n",
        "                ['O', 'O', 'O', 'O', 'O', 'O', 'O', 'O', 'O', 'O', 'O', 'O', 'O', 'O', 'O', 'O', 'O', 'O', 'O', 'O', 'O'],\n",
        "                ['O', 'O', 'O', 'O', 'O', 'O', 'O', 'O', 'O', 'O', 'O', 'O', 'O', 'O', 'O', 'O', 'O', 'O', 'O', 'O', 'O', 'O', 'O'],\n",
        "                ['O', 'O', 'O', 'O', 'O', 'O', 'O', 'O', 'O', 'O', 'O', 'O', 'O', 'O', 'O', 'O', 'O', 'O'], #10\n",
        "                ['O', 'O', 'O', 'O', 'O', 'O', 'O', 'O', 'O', 'O', 'O', 'O', 'O', 'O', 'O', 'O', 'O'],\n",
        "                ['O', 'O', 'O', 'O', 'O', 'O', 'O', 'O', 'O', 'O', 'O', 'O', 'O', 'O', 'O', 'O', 'O', 'O', 'O', 'O'],\n",
        "                ['B-PER', 'I-PER', 'O', 'O', 'O', 'O', 'O', 'O', 'O', 'O', 'O', 'O', 'O', 'O', 'O', 'O', 'O', 'O', 'O', 'O', 'O', 'O', 'O', 'O'],\n",
        "                ['O', 'O', 'O', 'O', 'O', 'O', 'O', 'O', 'O', 'O', 'O',], #14\n",
        "                ['O', 'O', 'O', 'O', 'O', 'O', 'O', 'O', 'O', 'O', 'O', 'O', 'O'],\n",
        "                ['B-PER', 'I-PER', 'O', 'O', 'O', 'O', 'O', 'O', 'O', 'O', 'O'],\n",
        "                ['O', 'O', 'O', 'O', 'O', 'O', 'O', 'O', 'O', 'O', 'O', 'O', 'O', 'O', 'O', 'O', 'O', 'O', 'O', 'O', 'O', 'O', 'O', 'O', 'O', 'O', 'O', 'O'],\n",
        "                ['O', 'O', 'O', 'O', 'O', 'O', 'O', 'O', 'O', 'O', 'O', 'O', 'O', 'O', 'O', 'O', 'O', 'O', 'O', 'O', 'O', 'O', 'O', 'O', 'O'], #18\n",
        "                ['O', 'O', 'O', 'O', 'O', 'O', 'O', 'O', 'O', 'O', 'O', 'O', 'O', 'O', 'O', 'O', 'O', 'O'],\n",
        "                ['O', 'O', 'O', 'O', 'O', 'O', 'O', 'O', 'O', 'O', 'O', 'O', 'O', 'O', 'O'],\n",
        "                ['O', 'O', 'O', 'O', 'O', 'O', 'O', 'O', 'O', 'O', 'O', 'O', 'O', 'O', 'O', 'O'], #21\n",
        "                ['O', 'O', 'O', 'O', 'O', 'O', 'O', 'O', 'O', 'O', 'O', 'O', 'O', 'O', 'O', 'O', 'O', 'O', 'O', 'O', 'O', 'O', 'O', 'O'],\n",
        "                ['O', 'O', 'O', 'O', 'O', 'O', 'O', 'O', 'O', 'O', 'O', 'O'],\n",
        "                ['O', 'O', 'O', 'O', 'O', 'O', 'O', 'O', 'O', 'O', 'O', 'O', 'O', 'O', 'O', 'O', 'O'],\n",
        "                ['O', 'O', 'O', 'O', 'O', 'O', 'O', 'O', 'O', 'O', 'O', 'O', 'O', 'O', 'O']]\n",
        "\n",
        "user_tags = [[\"O\", \"O\", \"O\", \"O\", \"B-PER\", \"I-PER\", \"O\", \"O\", \"O\", \"O\", \"O\", \"O\", \"O\"],\n",
        "             [\"O\", \"O\", \"O\", \"O\", \"O\", \"O\", \"O\", \"O\", \"O\", \"O\", \"O\"],\n",
        "             [\"B-ORG\", \"I-ORG\", \"O\", \"O\", \"O\", \"O\", \"O\", \"O\", \"O\", \"O\", \"O\"],\n",
        "             [\"O\", \"O\", \"O\", \"O\", \"O\", \"O\", \"B-MISC\", \"B-PER\", \"I-PER\", \"O\", \"O\", \"O\", \"O\", \"B-LOC\", \"O\", \"O\", \"O\", \"O\", \"O\"],\n",
        "             [\"O\", \"B-PER\", \"I-PER\", \"B-PER\", \"I-PER\", \"O\", \"B-PER\", \"I-PER\", \"O\", \"O\", \"O\", \"O\", \"O\", \"O\", \"O\", \"B-PER\", \"I-PER\", \"O\", \"O\", \"O\", \"O\", \"O\", \"O\", \"O\", \"O\", \"B-PER\", \"I-PER\", \"O\", \"O\", \"O\", \"O\", \"O\", \"O\", \"O\", \"O\", \"O\", \"O\", \"O\", \"O\", \"O\", \"O\", \"O\", \"B-PER\", \"I-PER\", \"O\", \"O\", \"B-LOC\", \"O\", \"O\", \"B-PER\", \"O\", \"O\", \"O\", \"O\"],\n",
        "             [\"B-MISC\", \"I-MISC\", \"O\", \"O\", \"O\", \"O\", \"O\", \"O\", \"O\", \"B-MISC\", \"I-MISC\", \"O\", \"O\", \"O\"],\n",
        "             [\"O\", \"O\", \"O\", \"O\", \"O\", \"O\", \"O\", \"O\", \"O\", \"O\", \"B-ORG\", \"I-ORG\", \"O\", \"O\", \"O\"],\n",
        "             [\"O\", \"O\", \"O\", \"O\", \"O\", \"O\", \"O\", \"O\", \"O\", \"O\", \"O\", \"O\", \"O\", \"O\", \"O\", \"O\", \"O\", \"O\", \"O\", \"O\", \"O\"],\n",
        "             [\"B-ORG\", \"I-ORG\", \"I-ORG\", \"O\", \"O\", \"O\", \"B-MISC\", \"I-MISC\", \"B-LOC\", \"O\", \"B-LOC\", \"O\", \"O\", \"O\", \"O\", \"O\", \"O\", \"O\", \"O\", \"O\", \"O\", \"O\", \"O\"],\n",
        "             [\"B-LOC\", \"O\", \"B-LOC\", \"O\", \"O\", \"O\", \"O\", \"O\", \"O\", \"O\", \"O\", \"B-MISC\", \"O\", \"O\", \"O\", \"O\", \"O\", \"O\"], #10\n",
        "             [\"B-MISC\", \"I-MISC\", \"O\", \"O\", \"O\", \"O\", \"O\", \"O\", \"O\", \"O\", \"O\", \"O\", \"O\", \"B-MISC\", \"O\", \"O\", \"O\"],\n",
        "             [\"B-ORG\", \"O\", \"O\", \"O\", \"O\", \"O\", \"O\", \"B-MISC\", \"O\", \"O\", \"O\", \"O\", \"O\", \"O\", \"O\", \"O\", \"O\", \"O\", \"O\", \"O\"],\n",
        "             [\"B-PER\", \"I-PER\", \"O\", \"O\", \"O\", \"O\", \"O\", \"O\", \"O\", \"O\", \"O\", \"O\", \"O\", \"O\", \"O\", \"B-MISC\", \"I-MISC\", \"O\", \"O\", \"O\", \"O\", \"O\", \"O\", \"O\"],\n",
        "             [\"O\", \"O\", \"O\", \"B-MISC\", \"I-MISC\", \"O\", \"O\", \"O\", \"B-MISC\", \"I-MISC\", \"O\"],\n",
        "             [\"O\", \"O\", \"O\", \"O\", \"O\", \"O\", \"O\", \"O\", \"O\", \"O\", \"O\", \"O\", \"O\"],\n",
        "             [\"B-PER\", \"O\", \"O\", \"O\", \"O\", \"O\", \"O\", \"O\", \"O\", \"O\", \"O\"],\n",
        "             [\"B-MISC\", \"I-MISC\", \"O\", \"B-MISC\", \"O\", \"O\", \"O\", \"O\", \"O\", \"O\", \"O\", \"O\", \"O\", \"O\", \"O\", \"O\", \"O\", \"O\", \"O\", \"O\", \"O\", \"O\", \"O\", \"O\", \"O\", \"O\", \"O\", \"O\"],\n",
        "             [\"B-LOC\", \"B-LOC\", \"O\", \"B-LOC\", \"O\", \"O\", \"O\", \"O\", \"O\", \"O\", \"O\", \"B-LOC\", \"I-LOC\", \"O\", \"O\", \"O\", \"O\", \"B-ORG\", \"I-ORG\", \"I-ORG\", \"O\", \"O\", \"O\", \"O\", \"O\"],\n",
        "             [\"O\", \"O\", \"O\", \"O\", \"O\", \"O\", \"O\", \"O\", \"O\", \"O\", \"O\", \"O\", \"O\", \"O\", \"B-MISC\", \"B-ORG\", \"O\", \"O\"],\n",
        "             [\"O\", \"O\", \"O\", \"O\", \"O\", \"O\", \"O\", \"O\", \"O\", \"O\", \"O\", \"O\", \"O\", \"O\", \"O\"],\n",
        "             [\"O\", \"O\", \"O\", \"O\", \"O\", \"O\", \"O\", \"O\", \"O\", \"O\", \"O\", \"O\", \"O\", \"O\", \"O\", \"O\"],\n",
        "             [\"O\", \"O\", \"O\", \"B-LOC\", \"B-MISC\", \"O\", \"B-PER\", \"I-PER\", \"B-LOC\", \"I-LOC\", \"B-PER\", \"I-PER\", \"B-MISC\", \"O\", \"B-MISC\", \"O\", \"B-MISC\", \"O\", \"B-MISC\", \"O\", \"O\", \"O\", \"O\", \"O\"],\n",
        "             [\"O\", \"O\", \"O\", \"O\", \"O\", \"O\", \"O\", \"O\", \"O\", \"O\", \"O\", \"O\"],\n",
        "             [\"B-ORG\", \"O\", \"O\", \"O\", \"B-MISC\", \"O\", \"O\", \"O\", \"O\", \"O\", \"O\", \"O\", \"O\", \"O\", \"O\", \"O\", \"O\"],\n",
        "             [\"B-ORG\", \"O\", \"O\", \"B-ORG\", \"O\", \"B-LOC\", \"O\", \"O\", \"O\", \"B-ORG\", \"O\", \"B-ORG\", \"O\", \"B-LOC\", \"O\"]]\n",
        "\n",
        "\n",
        "# for i in range(25):\n",
        "#   print(i+1,\" \",len(chatgpt_tags[i]),\" \",len(user_tags[i]))\n",
        "\n",
        "report = classification_report(user_tags, chatgpt_tags)\n",
        "print(report)"
      ],
      "metadata": {
        "colab": {
          "base_uri": "https://localhost:8080/"
        },
        "id": "q7w_NAO733wa",
        "outputId": "ce49f070-2731-4046-85b3-2c16a4a5df51"
      },
      "execution_count": 2,
      "outputs": [
        {
          "output_type": "stream",
          "name": "stdout",
          "text": [
            "              precision    recall  f1-score   support\n",
            "\n",
            "         LOC       0.00      0.00      0.00        14\n",
            "        MISC       0.00      0.00      0.00        20\n",
            "         ORG       0.00      0.00      0.00        11\n",
            "         PER       0.33      0.23      0.27        13\n",
            "\n",
            "   micro avg       0.27      0.05      0.09        58\n",
            "   macro avg       0.08      0.06      0.07        58\n",
            "weighted avg       0.07      0.05      0.06        58\n",
            "\n"
          ]
        },
        {
          "output_type": "stream",
          "name": "stderr",
          "text": [
            "/usr/local/lib/python3.10/dist-packages/seqeval/metrics/v1.py:57: UndefinedMetricWarning: Precision and F-score are ill-defined and being set to 0.0 in labels with no predicted samples. Use `zero_division` parameter to control this behavior.\n",
            "  _warn_prf(average, modifier, msg_start, len(result))\n"
          ]
        }
      ]
    },
    {
      "cell_type": "code",
      "source": [
        "from seqeval.metrics import classification_report\n",
        "\n",
        "\n",
        "def all_classes(true_tags, pred_tags):\n",
        "    classes = set(tag for row in true_tags + pred_tags for tag in row)\n",
        "\n",
        "    results = []\n",
        "    true_positives, false_positives, false_negatives = 0, 0, 0\n",
        "    for class_label in sorted(classes):\n",
        "        true_indices = [(i, j) for i, row in enumerate(true_tags) for j, tag in enumerate(row) if tag == class_label]\n",
        "        pred_indices = [(i, j) for i, row in enumerate(pred_tags) for j, tag in enumerate(row) if tag == class_label]\n",
        "\n",
        "        true_positive = len(set(true_indices) & set(pred_indices))\n",
        "        false_positive = len(set(pred_indices) - set(true_indices))\n",
        "        false_negative = len(set(true_indices) - set(pred_indices))\n",
        "\n",
        "        precision = true_positive / (true_positive + false_positive) if (true_positive + false_positive) > 0 else 0\n",
        "        recall = true_positive / (true_positive + false_negative) if (true_positive + false_negative) > 0 else 0\n",
        "        f1_score = 2 * (precision * recall) / (precision + recall) if (precision + recall) > 0 else 0\n",
        "\n",
        "        results.append((class_label, precision, recall, f1_score))\n",
        "\n",
        "        true_positives += true_positive\n",
        "        false_positives += false_positive\n",
        "        false_negatives += false_negative\n",
        "\n",
        "    macro_f1_score = 2 * (true_positives) / (2 * true_positives + false_positives + false_negatives) if (2 * true_positives + false_positives + false_negatives) > 0 else 0\n",
        "    results.append(('macro avg', 0, 0, macro_f1_score))\n",
        "\n",
        "    return results\n",
        "\n",
        "report = all_classes(user_tags, chatgpt_tags)\n",
        "print(\"Class\\tPrecision\\tRecall\\tF1-Score\")\n",
        "for class_label, precision, recall, f1_score in report:\n",
        "    print(f\"{class_label}\\t{precision:.2f}\\t\\t{recall:.2f}\\t{f1_score:.2f}\")\n",
        "\n",
        "\n"
      ],
      "metadata": {
        "colab": {
          "base_uri": "https://localhost:8080/"
        },
        "id": "2BP4JwwTCy--",
        "outputId": "07d6cf27-3e87-4fd4-d1f9-7beea0499143"
      },
      "execution_count": 3,
      "outputs": [
        {
          "output_type": "stream",
          "name": "stdout",
          "text": [
            "Class\tPrecision\tRecall\tF1-Score\n",
            "B-LOC\t0.00\t\t0.00\t0.00\n",
            "B-MISC\t0.00\t\t0.00\t0.00\n",
            "B-ORG\t0.00\t\t0.00\t0.00\n",
            "B-PER\t0.44\t\t0.31\t0.36\n",
            "I-LOC\t0.00\t\t0.00\t0.00\n",
            "I-MISC\t0.00\t\t0.00\t0.00\n",
            "I-ORG\t0.00\t\t0.00\t0.00\n",
            "I-PER\t0.40\t\t0.36\t0.38\n",
            "O\t0.84\t\t0.98\t0.90\n",
            "macro avg\t0.00\t\t0.00\t0.82\n"
          ]
        }
      ]
    }
  ]
}